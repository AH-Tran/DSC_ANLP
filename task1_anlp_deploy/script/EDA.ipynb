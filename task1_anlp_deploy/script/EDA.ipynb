{
 "cells": [
  {
   "cell_type": "code",
   "execution_count": 1,
   "metadata": {},
   "outputs": [],
   "source": [
    "import os\n",
    "import csv\n",
    "import pandas as pd\n",
    "import numpy as np\n",
    "import matplotlib.pyplot as plt\n",
    "import seaborn as sns\n",
    "import tldextract\n",
    "import re"
   ]
  },
  {
   "cell_type": "markdown",
   "metadata": {},
   "source": [
    "### Load Data"
   ]
  },
  {
   "cell_type": "code",
   "execution_count": 10,
   "metadata": {},
   "outputs": [],
   "source": [
    "toxic_df = pd.read_csv(\"toxic.tsv\",sep='\\t')"
   ]
  },
  {
   "cell_type": "code",
   "execution_count": 2,
   "metadata": {},
   "outputs": [],
   "source": [
    "tsv_df = pd.read_csv(\"../data/val.tsv\",sep='\\t')"
   ]
  },
  {
   "cell_type": "code",
   "execution_count": 2,
   "metadata": {},
   "outputs": [
    {
     "name": "stderr",
     "output_type": "stream",
     "text": [
      "C:\\Users\\Vi\\AppData\\Local\\Temp\\ipykernel_17544\\1950742278.py:6: FutureWarning: The frame.append method is deprecated and will be removed from pandas in a future version. Use pandas.concat instead.\n",
      "  train_df = train_df.append(validation_df)\n"
     ]
    }
   ],
   "source": [
    "train_file = '../data/train.jsonl'\n",
    "validation_file = '../data/validation.jsonl'\n",
    "train_df = pd.read_json(train_file, lines = True)\n",
    "validation_df = pd.read_json(validation_file, lines = True)\n",
    "\n",
    "train_df = train_df.append(validation_df)"
   ]
  },
  {
   "cell_type": "code",
   "execution_count": 3,
   "metadata": {},
   "outputs": [],
   "source": [
    "## Transforming Data Step 1:\n",
    "train_df = train_df.drop(['postId', 'targetMedia', 'provenance', 'spoiler', 'spoilerPositions', 'targetTitle'], axis=1)\n",
    "#validation_df = validation_df.drop(['postId', 'targetMedia', 'provenance', 'targetDescription', 'targetTitle'], axis=1)\n",
    "\n",
    "train_df['targetUrl'] = train_df['targetUrl'].astype(str)\n",
    "#validation_df['targetUrl'] = validation_df['targetUrl'].astype(str)\n",
    "train_df['targetUrl'] = train_df.targetUrl.apply(lambda x: '.'.join(tldextract.extract(x)[1:]))\n",
    "#validation_df['targetUrl'] = validation_df.targetUrl.apply(lambda x: '.'.join(tldextract.extract(x)[1:]))\n",
    "\n",
    "train_df = train_df.fillna(\"\")\n",
    "#validation_df = validation_df.fillna(\"\")\n",
    "train_df['targetDescription'] = train_df[\"targetDescription\"].astype(str)\n",
    "train_df['postText'] = train_df[\"postText\"].astype(str)"
   ]
  },
  {
   "cell_type": "code",
   "execution_count": 4,
   "metadata": {},
   "outputs": [],
   "source": [
    "## Calculated Measures\n",
    "train_df[\"title_spoiler_ratio\"] = train_df.apply(lambda x: len(x[\"targetDescription\"].split(\" \")) / len(x[\"postText\"].split(\" \")), axis=1 )\n",
    "#train_df[\"first_spoiler\"] = train_df.apply(lambda x: x[\"spoilerPositions\"][0][0][0], axis=1)\n",
    "\n",
    "string_list = []\n",
    "for i, j in train_df.iterrows():\n",
    "    string = \"\"\n",
    "    for k in j[\"targetParagraphs\"]:\n",
    "        string += k + \" \"\n",
    "    string_list.append(string)\n",
    "train_df[\"full_context\"] = string_list\n"
   ]
  },
  {
   "cell_type": "code",
   "execution_count": 5,
   "metadata": {},
   "outputs": [
    {
     "name": "stderr",
     "output_type": "stream",
     "text": [
      "C:\\Users\\Vi\\AppData\\Local\\Temp\\ipykernel_17544\\1617025903.py:6: FutureWarning: The frame.append method is deprecated and will be removed from pandas in a future version. Use pandas.concat instead.\n",
      "  ner_df =  ner_df.append(ner2_df, ignore_index=True)\n"
     ]
    }
   ],
   "source": [
    "## Enrich with NER data\n",
    "ner_df  = pd.read_json(\"../data/ner/train_ner.json\")\n",
    "ner2_df = pd.read_json(\"../data/ner/validation_ner.json\")\n",
    "\n",
    "ner2_df = ner2_df.drop(['postText', 'postPlatform', \"targetParagraphs\", \"targetTitle\", \"targetDescription\", \"targetKeywords\", \"targetMedia\", \"targetUrl\", \"provenance\", \"spoiler\", \"spoilerPositions\", \"tags\", \"full_context\"], axis=1)\n",
    "ner_df =  ner_df.append(ner2_df, ignore_index=True)\n",
    "\n",
    "train_df = pd.merge(train_df, ner_df, on='uuid', how='left')"
   ]
  },
  {
   "cell_type": "code",
   "execution_count": 7,
   "metadata": {},
   "outputs": [
    {
     "data": {
      "text/html": [
       "<div>\n",
       "<style scoped>\n",
       "    .dataframe tbody tr th:only-of-type {\n",
       "        vertical-align: middle;\n",
       "    }\n",
       "\n",
       "    .dataframe tbody tr th {\n",
       "        vertical-align: top;\n",
       "    }\n",
       "\n",
       "    .dataframe thead th {\n",
       "        text-align: right;\n",
       "    }\n",
       "</style>\n",
       "<table border=\"1\" class=\"dataframe\">\n",
       "  <thead>\n",
       "    <tr style=\"text-align: right;\">\n",
       "      <th></th>\n",
       "      <th>uuid</th>\n",
       "      <th>postId</th>\n",
       "      <th>ner_orgs</th>\n",
       "      <th>ner_persons</th>\n",
       "      <th>ner_dates</th>\n",
       "      <th>ner_locations</th>\n",
       "    </tr>\n",
       "  </thead>\n",
       "  <tbody>\n",
       "    <tr>\n",
       "      <th>3995</th>\n",
       "      <td>1189d343-42eb-47e7-8395-ff978a683875</td>\n",
       "      <td>428006164904034305</td>\n",
       "      <td>[YouTube]</td>\n",
       "      <td>[Kyle, Josh]</td>\n",
       "      <td>[this week]</td>\n",
       "      <td>[]</td>\n",
       "    </tr>\n",
       "    <tr>\n",
       "      <th>3996</th>\n",
       "      <td>7912282b-137b-4098-875d-8ad9f19354a8</td>\n",
       "      <td>806153730206892032</td>\n",
       "      <td>[The New York Times, Politico, Harvard Univers...</td>\n",
       "      <td>[Suprun, Donald Trump, George W. Bush, Christo...</td>\n",
       "      <td>[each day, Sept. 11, 9/11, Dec. 19, two days]</td>\n",
       "      <td>[Texas, Ohio, America]</td>\n",
       "    </tr>\n",
       "    <tr>\n",
       "      <th>3997</th>\n",
       "      <td>1fdf71e8-ec14-4c3b-a7c5-ca678c6f8ccb</td>\n",
       "      <td>847331053991813120</td>\n",
       "      <td>[Instagram]</td>\n",
       "      <td>[Instagram, Rachel Crawley ☾, Crawley, nomakeu...</td>\n",
       "      <td>[22-year-old, 2017, years, today, Mar 3, 2017,...</td>\n",
       "      <td>[Crawley]</td>\n",
       "    </tr>\n",
       "    <tr>\n",
       "      <th>3998</th>\n",
       "      <td>17f6b540-cf8d-4ddf-8321-1c9ce2315d71</td>\n",
       "      <td>788056531304583168</td>\n",
       "      <td>[Reddit, CBS, Assange, Equador, Gizmodo, CNET,...</td>\n",
       "      <td>[Declan McCullagh, John Kerry, Assange, Roger ...</td>\n",
       "      <td>[June 2012, 16 October 2016, October 17, 2016,...</td>\n",
       "      <td>[UK, Ecuador, London, U.S.]</td>\n",
       "    </tr>\n",
       "    <tr>\n",
       "      <th>3999</th>\n",
       "      <td>89dcad77-d8ad-4705-8676-717b26fda2ad</td>\n",
       "      <td>388308677494444032</td>\n",
       "      <td>[Munch, HARGITAY, The Huffington Post, SVU, NBC]</td>\n",
       "      <td>[Belzer, Finn Wittrock, Matt DeCapua, John Mun...</td>\n",
       "      <td>[more than 20 years, Oct. 9, 1993, May 2013, 1...</td>\n",
       "      <td>[]</td>\n",
       "    </tr>\n",
       "  </tbody>\n",
       "</table>\n",
       "</div>"
      ],
      "text/plain": [
       "                                      uuid              postId  \\\n",
       "3995  1189d343-42eb-47e7-8395-ff978a683875  428006164904034305   \n",
       "3996  7912282b-137b-4098-875d-8ad9f19354a8  806153730206892032   \n",
       "3997  1fdf71e8-ec14-4c3b-a7c5-ca678c6f8ccb  847331053991813120   \n",
       "3998  17f6b540-cf8d-4ddf-8321-1c9ce2315d71  788056531304583168   \n",
       "3999  89dcad77-d8ad-4705-8676-717b26fda2ad  388308677494444032   \n",
       "\n",
       "                                               ner_orgs  \\\n",
       "3995                                          [YouTube]   \n",
       "3996  [The New York Times, Politico, Harvard Univers...   \n",
       "3997                                        [Instagram]   \n",
       "3998  [Reddit, CBS, Assange, Equador, Gizmodo, CNET,...   \n",
       "3999   [Munch, HARGITAY, The Huffington Post, SVU, NBC]   \n",
       "\n",
       "                                            ner_persons  \\\n",
       "3995                                       [Kyle, Josh]   \n",
       "3996  [Suprun, Donald Trump, George W. Bush, Christo...   \n",
       "3997  [Instagram, Rachel Crawley ☾, Crawley, nomakeu...   \n",
       "3998  [Declan McCullagh, John Kerry, Assange, Roger ...   \n",
       "3999  [Belzer, Finn Wittrock, Matt DeCapua, John Mun...   \n",
       "\n",
       "                                              ner_dates  \\\n",
       "3995                                        [this week]   \n",
       "3996      [each day, Sept. 11, 9/11, Dec. 19, two days]   \n",
       "3997  [22-year-old, 2017, years, today, Mar 3, 2017,...   \n",
       "3998  [June 2012, 16 October 2016, October 17, 2016,...   \n",
       "3999  [more than 20 years, Oct. 9, 1993, May 2013, 1...   \n",
       "\n",
       "                    ner_locations  \n",
       "3995                           []  \n",
       "3996       [Texas, Ohio, America]  \n",
       "3997                    [Crawley]  \n",
       "3998  [UK, Ecuador, London, U.S.]  \n",
       "3999                           []  "
      ]
     },
     "execution_count": 7,
     "metadata": {},
     "output_type": "execute_result"
    }
   ],
   "source": [
    "ner_df.tail()"
   ]
  },
  {
   "cell_type": "markdown",
   "metadata": {},
   "source": []
  },
  {
   "cell_type": "markdown",
   "metadata": {},
   "source": [
    "### Combine into Text"
   ]
  },
  {
   "cell_type": "code",
   "execution_count": 12,
   "metadata": {},
   "outputs": [],
   "source": [
    "def combine_features(data_df):\n",
    "    all_features = []\n",
    "    labels = []\n",
    "\n",
    "    for index, row in data_df.iterrows():\n",
    "        \"\"\"combined = ''\n",
    "        combined += f'The post contains the title {row[\"postText\"][1:-1]}. ' \\\n",
    "                    f'The spoiler has a length ratio of {row[\"title_spoiler_ratio\"]}. '\n",
    "                    #f'The post contains the spoiler {row[\"spoiler\"][1:-1]}. ' \\\n",
    "                    #f'The spoiler first appears at paragraph {row[\"first_spoiler\"]}. ' \\\n",
    "\n",
    "        if re.match(\".*\\d+\\s*[\\.\\)].+\\d+?\\s*[\\.\\)].+?\\d+\\s*[\\.\\)]\",row[\"full_context\"], re.MULTILINE | re.IGNORECASE):\n",
    "            combined += f'The spoiler contains an enumeration or multi-line. '\n",
    "        \n",
    "        if len(row[\"ner_orgs\"]) > 0:\n",
    "            combined += f'The context involves {len(row[\"ner_orgs\"])} organisations. '\n",
    "            #combined += f'The context contains the following organisations {str(row[\"ner_orgs\"])[1:-1]}. '\n",
    "        if len(row[\"ner_persons\"]) > 0:\n",
    "            combined += f'The context involves {len(row[\"ner_persons\"])} persons. '\n",
    "            #combined += f'The context contains the following persons {str(row[\"ner_persons\"])[1:-1]}. '\n",
    "        if len(row[\"ner_dates\"]) > 0:\n",
    "            combined += f'The context involves {len(row[\"ner_dates\"])} dates. '\n",
    "            #combined += f'The context contains the following dates {str(row[\"ner_dates\"])[1:-1]}. '\n",
    "        if len(row[\"ner_locations\"]) > 0:\n",
    "            combined += f'The context involves {len(row[\"ner_locations\"])} locations. '\n",
    "            #combined += f'The context contains the following locations {str(row[\"ner_locations\"])[1:-1]}. '\n",
    "            \n",
    "        combined += f'The post was published on {row[\"postPlatform\"]}. ' \\\n",
    "                    f'The post is sourced from the website {row[\"targetUrl\"]}. '\n",
    "        combined = combined.replace('\"', \"'\")\n",
    "        all_features.append(combined)\n",
    "        labels.append(row[\"tags\"][0])\"\"\"\n",
    "        combined = ''\n",
    "        combined += f'Title: {row[\"postText\"][1:-1]}. ' \\\n",
    "                    f'Spoiler Length Ratio: {row[\"title_spoiler_ratio\"]}. '\n",
    "        if re.match(\".*\\d+\\s*[\\.\\)].+\\d+?\\s*[\\.\\)].+?\\d+\\s*[\\.\\)]\",row[\"full_context\"], re.MULTILINE | re.IGNORECASE):\n",
    "            combined += f'Enumeration or multi-line. '\n",
    "        \n",
    "        if len(row[\"ner_orgs\"]) > 0:\n",
    "            combined += f'{len(row[\"ner_orgs\"])} organisations. '\n",
    "            #combined += f'The context contains the following organisations {str(row[\"ner_orgs\"])[1:-1]}. '\n",
    "        if len(row[\"ner_persons\"]) > 0:\n",
    "            combined += f'{len(row[\"ner_persons\"])} persons. '\n",
    "            #combined += f'The context contains the following persons {str(row[\"ner_persons\"])[1:-1]}. '\n",
    "        if len(row[\"ner_dates\"]) > 0:\n",
    "            combined += f'{len(row[\"ner_dates\"])} dates. '\n",
    "            #combined += f'The context contains the following dates {str(row[\"ner_dates\"])[1:-1]}. '\n",
    "        if len(row[\"ner_locations\"]) > 0:\n",
    "            combined += f'{len(row[\"ner_locations\"])} locations. '\n",
    "            #combined += f'The context contains the following locations {str(row[\"ner_locations\"])[1:-1]}. '\n",
    "            \n",
    "        combined += f'Publishing Platform: {row[\"postPlatform\"]}. ' \\\n",
    "                    f'Source Website {row[\"targetUrl\"]}. '\n",
    "        combined = combined.replace('\"', \"'\")\n",
    "        all_features.append(combined)\n",
    "        labels.append(row[\"tags\"][0])\n",
    "\n",
    "\n",
    "    return all_features, labels\n",
    "\n",
    "all_features, labels = combine_features(train_df)"
   ]
  },
  {
   "cell_type": "code",
   "execution_count": 13,
   "metadata": {},
   "outputs": [
    {
     "data": {
      "text/plain": [
       "\"Title: 'One thing women would choose over sex that we're not even surprised about'. Spoiler Length Ratio: 2.1538461538461537. 2 persons. 4 dates. Publishing Platform: Twitter. Source Website huff.to. \""
      ]
     },
     "execution_count": 13,
     "metadata": {},
     "output_type": "execute_result"
    }
   ],
   "source": [
    "all_features[97]"
   ]
  },
  {
   "cell_type": "code",
   "execution_count": 11,
   "metadata": {},
   "outputs": [
    {
     "data": {
      "text/plain": [
       "uuid                                4cd4e1f1-7425-4f6e-b520-6335be81724c\n",
       "postText               [\"One thing women would choose over sex that w...\n",
       "postPlatform                                                     Twitter\n",
       "targetParagraphs       [Carving out time for yourself during the day ...\n",
       "targetDescription      Carving out time for yourself during the day -...\n",
       "targetKeywords         Love & Sex,things women prefer to sex,sex,the ...\n",
       "targetUrl                                                        huff.to\n",
       "tags                                                            [phrase]\n",
       "title_spoiler_ratio                                             2.153846\n",
       "full_context           Carving out time for yourself during the day -...\n",
       "postId                                                399413489804275712\n",
       "ner_orgs                                                              []\n",
       "ner_persons                     [Celestial Seasonings, Christina Norman]\n",
       "ner_dates                   [the day, each day, their day, October 2011]\n",
       "ner_locations                                                         []\n",
       "Name: 97, dtype: object"
      ]
     },
     "metadata": {},
     "output_type": "display_data"
    }
   ],
   "source": [
    "display(train_df.iloc[97])"
   ]
  },
  {
   "cell_type": "code",
   "execution_count": 10,
   "metadata": {},
   "outputs": [
    {
     "data": {
      "text/plain": [
       "\"The post contains the title 'Daniel Craig Was Offered A Staggering Amount Of Money To Carry On Playing Bond'. The spoiler has a length ratio of 0.07142857142857142. The spoiler contains an enumeration or multi-line. The context involves 13 organisations. The context involves 14 persons. The context involves 9 dates. The context involves 5 locations. The post was published on Facebook. The post is sourced from the website James (Cash) Bond! Daniel Craig is 'offered a staggering $150million by Sony bosses for two more 007 movies'.. \""
      ]
     },
     "execution_count": 10,
     "metadata": {},
     "output_type": "execute_result"
    }
   ],
   "source": [
    "max(all_features, key=len)"
   ]
  },
  {
   "cell_type": "code",
   "execution_count": 9,
   "metadata": {},
   "outputs": [],
   "source": [
    "train_tsv = pd.DataFrame(list(zip(all_features, labels)),\n",
    "              columns=['text','label'])"
   ]
  },
  {
   "cell_type": "code",
   "execution_count": 10,
   "metadata": {},
   "outputs": [],
   "source": [
    "train_tsv.to_csv(\"../data/full_train_short.tsv\", sep=\"\\t\", encoding='utf-8', index=False)"
   ]
  },
  {
   "cell_type": "code",
   "execution_count": 19,
   "metadata": {},
   "outputs": [],
   "source": [
    "train_tsv[:3200].to_csv(\"../data/train.tsv\", sep=\"\\t\", encoding='utf-8')"
   ]
  },
  {
   "cell_type": "code",
   "execution_count": 20,
   "metadata": {},
   "outputs": [],
   "source": [
    "train_tsv[3200:].to_csv(\"../data/val.tsv\", sep=\"\\t\", encoding='utf-8')"
   ]
  }
 ],
 "metadata": {
  "kernelspec": {
   "display_name": "Python 3.9.2 ('.env_anlp': venv)",
   "language": "python",
   "name": "python3"
  },
  "language_info": {
   "codemirror_mode": {
    "name": "ipython",
    "version": 3
   },
   "file_extension": ".py",
   "mimetype": "text/x-python",
   "name": "python",
   "nbconvert_exporter": "python",
   "pygments_lexer": "ipython3",
   "version": "3.9.2"
  },
  "orig_nbformat": 4,
  "vscode": {
   "interpreter": {
    "hash": "72b5fca31832a63724e839808ff913ccccb5938fdaf849980926f72c8753e65b"
   }
  }
 },
 "nbformat": 4,
 "nbformat_minor": 2
}
